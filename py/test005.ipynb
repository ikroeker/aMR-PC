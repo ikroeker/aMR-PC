{
 "cells": [
  {
   "cell_type": "code",
   "execution_count": 6,
   "metadata": {
    "collapsed": false
   },
   "outputs": [
    {
     "name": "stdout",
     "output_type": "stream",
     "text": [
      "[ 0.24814418  0.39145408  0.50576488  0.60177376  0.68828345  0.76683421\n",
      "  0.83764826  0.90025798  0.95916245]\n",
      "[-1.11712516  0.46669094  0.86932787  0.27844439]\n"
     ]
    }
   ],
   "source": [
    "# test for wavelets details\n",
    "\n",
    "# load pandas\n",
    "import pandas as pd\n",
    "# load numpy\n",
    "import numpy as np\n",
    "#import math\n",
    "import matplotlib.pyplot as plt\n",
    "import polytools as pt\n",
    "import wavetools as wt\n",
    "\n",
    "# data location\n",
    "url='../data/InputParameters.txt'\n",
    "\n",
    "# load data\n",
    "dataframe=pd.read_csv(url,header=None,sep='\\s+ ',engine='python')\n",
    "\n",
    "No=4\n",
    "src=0\n",
    "epsilon=.1\n",
    "\n",
    "data=dataframe[src]\n",
    "#q=data.quantile(0.5)\n",
    "#b=data>=q\n",
    "#data=data[b]\n",
    "wv=wt.wavetools(No)\n",
    "wv.genWVlets()\n",
    "r=wv.roots\n",
    "len=r.shape[0]\n",
    "QuantileOnRoots=np.zeros(len)\n",
    "\n",
    "for i in range(len):\n",
    "    QuantileOnRoots[i]=data.quantile(r[i])\n",
    "    \n",
    "print(QuantileOnRoots)\n",
    "details=wv.cmpDetails(QuantileOnRoots)\n",
    "print(details)"
   ]
  }
 ],
 "metadata": {
  "kernelspec": {
   "display_name": "Python 3",
   "language": "python",
   "name": "python3"
  },
  "language_info": {
   "codemirror_mode": {
    "name": "ipython",
    "version": 3
   },
   "file_extension": ".py",
   "mimetype": "text/x-python",
   "name": "python",
   "nbconvert_exporter": "python",
   "pygments_lexer": "ipython3",
   "version": "3.5.3"
  }
 },
 "nbformat": 4,
 "nbformat_minor": 2
}
