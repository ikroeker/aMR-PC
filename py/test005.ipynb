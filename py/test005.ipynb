{
 "cells": [
  {
   "cell_type": "code",
   "execution_count": 1,
   "metadata": {},
   "outputs": [
    {
     "name": "stdout",
     "output_type": "stream",
     "text": [
      "[  6.93889390e-17  -2.45422439e-01  -2.45422439e-01  -2.15329895e-01] [[  0.69549257   0.           0.           0.        ]\n",
      " [  6.37943556   0.           0.           0.        ]\n",
      " [-23.31126207   0.           0.           0.        ]\n",
      " [ 15.54084138   0.           0.           0.        ]]\n",
      "[-0.24542244 -0.24542244 -0.21532989 -0.18523735] [[  0.69549257  -0.22201202   0.           0.        ]\n",
      " [  6.37943556   5.13573296   0.           0.        ]\n",
      " [-23.31126207 -13.60164622   0.           0.        ]\n",
      " [ 15.54084138   7.77042069   0.           0.        ]]\n",
      "[-0.24542244 -0.21532989 -0.18523735 -0.16006032] [[  0.69549257  -0.22201202  -0.13569089   0.        ]\n",
      " [  6.37943556   5.13573296   2.29432673   0.        ]\n",
      " [-23.31126207 -13.60164622  -5.5953543    0.        ]\n",
      " [ 15.54084138   7.77042069   2.43289275   0.        ]]\n",
      "[-0.21532989 -0.18523735 -0.16006032 -0.1397988 ] [[  0.69549257  -0.22201202  -0.13569089  -0.05944049]\n",
      " [  6.37943556   5.13573296   2.29432673   0.85563987]\n",
      " [-23.31126207 -13.60164622  -5.5953543   -1.57422461]\n",
      " [ 15.54084138   7.77042069   2.43289275  -0.23587122]]\n",
      "[ 0.24814418  0.39145408  0.50576488  0.60177376  0.68828345  0.76683421\n",
      "  0.83764826  0.90025798  0.95916245]\n",
      "[-0.76188989  1.26420655  0.46791314 -0.44491136]\n"
     ]
    }
   ],
   "source": [
    "# test for wavelets details\n",
    "\n",
    "# load pandas\n",
    "import pandas as pd\n",
    "# load numpy\n",
    "import numpy as np\n",
    "#import math\n",
    "import matplotlib.pyplot as plt\n",
    "import polytools as pt\n",
    "import wavetools as wt\n",
    "\n",
    "# data location\n",
    "url='../data/InputParameters.txt'\n",
    "\n",
    "# load data\n",
    "dataframe=pd.read_csv(url,header=None,sep='\\s+ ',engine='python')\n",
    "\n",
    "No=4\n",
    "src=0\n",
    "epsilon=.1\n",
    "\n",
    "data=dataframe[src]\n",
    "#q=data.quantile(0.5)\n",
    "#b=data>=q\n",
    "#data=data[b]\n",
    "wv=wt.wavetools(No)\n",
    "wv.genWVlets()\n",
    "r=wv.roots\n",
    "len=r.shape[0]\n",
    "QuantileOnRoots=np.zeros(len)\n",
    "\n",
    "for i in range(len):\n",
    "    QuantileOnRoots[i]=data.quantile(r[i])\n",
    "    \n",
    "print(QuantileOnRoots)\n",
    "details=wv.cmpDetails(QuantileOnRoots)\n",
    "print(details)"
   ]
  }
 ],
 "metadata": {
  "kernelspec": {
   "display_name": "Python 3",
   "language": "python",
   "name": "python3"
  },
  "language_info": {
   "codemirror_mode": {
    "name": "ipython",
    "version": 3
   },
   "file_extension": ".py",
   "mimetype": "text/x-python",
   "name": "python",
   "nbconvert_exporter": "python",
   "pygments_lexer": "ipython3",
   "version": "3.6.8"
  }
 },
 "nbformat": 4,
 "nbformat_minor": 2
}
