{
 "cells": [
  {
   "cell_type": "code",
   "execution_count": null,
   "metadata": {
    "collapsed": true
   },
   "outputs": [],
   "source": [
    "# creates and plot rescaled polynomial basis\n",
    "\n",
    "# load pandas\n",
    "import pandas as pd\n",
    "# load numpy\n",
    "import numpy as np\n",
    "#import math\n",
    "import matplotlib.pyplot as plt\n",
    "import polytools as pt\n",
    "#import wavetools as wt\n",
    "\n",
    "# data location\n",
    "url='../data/InputParameters.txt'\n",
    "\n",
    "# load data\n",
    "dataframe=pd.read_csv(url,header=None,sep='\\s+ ',engine='python')\n",
    "\n",
    "# aPC method: 0 - Gautschi - style, 1- Sergey style / Karni & Kirby Book\n",
    "method=1 \n",
    "src=3\n",
    "Nr=2\n",
    "No=4\n",
    "epts=1000\n",
    "nNri=2**Nr\n",
    "data=dataframe[src]\n",
    "cl=['b-','r-','y-','g-','c-']\n",
    "for Nri in range(nNri):\n",
    "    lb,rb=pt.cmpLRB(Nr,Nri)\n",
    "    qlb=data.quantile(lb)\n",
    "    qrb=data.quantile(rb)\n",
    "    #print(lb,rb,qlb,qrb)\n",
    "    bd=pt.cmpQuantDomain(data,qlb,qrb)\n",
    "    qdata=data[bd]\n",
    "    #print(qdata.describe())\n",
    "    cf=np.zeros([No,No])\n",
    "    scf=np.zeros([No,No])\n",
    "    gcf=np.zeros([No,No])\n",
    "    ncf=np.zeros([No,No])\n",
    "    H=pt.Hankel(No,qdata)\n",
    "    r,w=pt.genRW(H,method)\n",
    "    #print('H=',H)\n",
    "    cf=pt.genPCmx(H,method)\n",
    "    ncf=pt.genNPCmx(cf,r,w)\n",
    "    for k in range(No):\n",
    "        #print('H=',H)\n",
    "        #nc=pt.cmpNormCf(cf[k,:],r,w)\n",
    "        #ncf[k,:]=cf[k,:]/nc\n",
    "        pcf=ncf[k,:]\n",
    "        p=np.poly1d(np.flip(pcf,0))\n",
    "        x=np.linspace(qlb,qrb,epts//nNri)\n",
    "        y=p(x)\n",
    "        #print('p.c.',p.c)\n",
    "        if Nri==0:\n",
    "            plt.plot(x,y,cl[k],label='$N_o=$'+str(k))\n",
    "        else:\n",
    "            plt.plot(x,y,cl[k])\n",
    "\n",
    "    #print('(',src,',',Nri,'):\\n',cf,'\\n',ncf,'\\n')\n",
    "plt.grid(True)\n",
    "plt.legend(loc='best')\n",
    "plt.show()\n",
    "\n"
   ]
  }
 ],
 "metadata": {
  "kernelspec": {
   "display_name": "Python 3",
   "language": "python",
   "name": "python3"
  },
  "language_info": {
   "codemirror_mode": {
    "name": "ipython",
    "version": 3
   },
   "file_extension": ".py",
   "mimetype": "text/x-python",
   "name": "python",
   "nbconvert_exporter": "python",
   "pygments_lexer": "ipython3",
   "version": "3.5.3"
  }
 },
 "nbformat": 4,
 "nbformat_minor": 2
}
