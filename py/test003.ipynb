{
 "cells": [
  {
   "cell_type": "code",
   "execution_count": 12,
   "metadata": {
    "collapsed": false
   },
   "outputs": [
    {
     "name": "stdout",
     "output_type": "stream",
     "text": [
      "df shape (10000, 4)\n",
      "Nr= 2  Nri= 3\n",
      "0.75 1.0 0.9189592050000001 3.3975847999999997\n",
      "count    2500.000000\n",
      "mean        1.365494\n",
      "std         0.381300\n",
      "min         0.919189\n",
      "25%         1.071018\n",
      "50%         1.265712\n",
      "75%         1.553193\n",
      "max         3.397585\n",
      "Name: 3, dtype: float64 \n",
      " count    2500.000000\n",
      "mean        1.365494\n",
      "std         0.381300\n",
      "min         0.919189\n",
      "25%         1.071018\n",
      "50%         1.265712\n",
      "75%         1.553193\n",
      "max         3.397585\n",
      "Name: 3, dtype: float64\n"
     ]
    }
   ],
   "source": [
    "# load pandas\n",
    "import pandas as pd\n",
    "# load numpy\n",
    "import numpy as np\n",
    "import math\n",
    "import polytools as pt\n",
    "import wavetools as wt\n",
    "\n",
    "# data location\n",
    "url='../data/InputParameters.txt'\n",
    "\n",
    "# load data\n",
    "dataframe=pd.read_csv(url,header=None,sep='\\s+ ',engine='python')\n",
    "print('df shape',dataframe.shape)\n",
    "src=3\n",
    "Nr=2\n",
    "Nri=3\n",
    "print('Nr=',Nr,' Nri=',Nri)\n",
    "lb,rb=pt.cmpLRB(Nr,Nri)\n",
    "dlb=dataframe[src].quantile(lb)\n",
    "drb=dataframe[src].quantile(rb)\n",
    "print(lb,rb,dlb,drb)\n",
    "ad=dataframe[(dataframe[src]>=dlb) & (dataframe[src]<=drb)]\n",
    "adata=dataframe[src]\n",
    "b=pt.cmpQuantDomain(adata,dlb,drb)\n",
    "print(ad[src].describe(),'\\n',adata[b].describe())\n"
   ]
  },
  {
   "cell_type": "code",
   "execution_count": 14,
   "metadata": {
    "collapsed": false
   },
   "outputs": [
    {
     "data": {
      "text/plain": [
       "2"
      ]
     },
     "execution_count": 14,
     "metadata": {},
     "output_type": "execute_result"
    }
   ],
   "source": [
    "wv=wt.wavetools(3)\n",
    "Nr"
   ]
  }
 ],
 "metadata": {
  "kernelspec": {
   "display_name": "Python 3",
   "language": "python",
   "name": "python3"
  },
  "language_info": {
   "codemirror_mode": {
    "name": "ipython",
    "version": 3
   },
   "file_extension": ".py",
   "mimetype": "text/x-python",
   "name": "python",
   "nbconvert_exporter": "python",
   "pygments_lexer": "ipython3",
   "version": "3.5.3"
  }
 },
 "nbformat": 4,
 "nbformat_minor": 2
}
