{
 "cells": [
  {
   "cell_type": "code",
   "execution_count": 1,
   "metadata": {
    "collapsed": false
   },
   "outputs": [
    {
     "name": "stdout",
     "output_type": "stream",
     "text": [
      "r [-0.90617985 -0.53846931  0.          0.53846931  0.90617985]\n",
      "w [ 0.23692689  0.47862867  0.56888889  0.47862867  0.23692689]\n",
      "nw [ 0.11846344  0.23931434  0.28444444  0.23931434  0.11846344]\n",
      "nr [ 0.04691008  0.23076534  0.5         0.76923466  0.95308992]\n"
     ]
    },
    {
     "data": {
      "text/plain": [
       "1.0"
      ]
     },
     "execution_count": 1,
     "metadata": {},
     "output_type": "execute_result"
    }
   ],
   "source": [
    "import numpy as np\n",
    "\n",
    "a=0\n",
    "b=1\n",
    "deg=5\n",
    "r, w =np.polynomial.legendre.leggauss(deg)\n",
    "print(\"r\",r)\n",
    "print(\"w\",w)\n",
    "nw=w*(b-a)/2\n",
    "nr=(b-a)/2*(r+1)\n",
    "print(\"nw\",nw)\n",
    "print(\"nr\",nr)\n",
    "sum(nw)"
   ]
  },
  {
   "cell_type": "code",
   "execution_count": 5,
   "metadata": {
    "collapsed": false
   },
   "outputs": [
    {
     "name": "stdout",
     "output_type": "stream",
     "text": [
      "[ 0.] [[ 0.]]\n"
     ]
    },
    {
     "data": {
      "image/png": "[encoded data removed]",
      "text/plain": [
       "<matplotlib.figure.Figure at 0x7f41f9454748>"
      ]
     },
     "metadata": {},
     "output_type": "display_data"
    },
    {
     "name": "stdout",
     "output_type": "stream",
     "text": [
      "[[ 0.]]\n"
     ]
    },
    {
     "data": {
      "image/png": "[encoded data removed]",
      "text/plain": [
       "<matplotlib.figure.Figure at 0x7f41f93e72b0>"
      ]
     },
     "metadata": {},
     "output_type": "display_data"
    }
   ],
   "source": [
    "#import numpy as np\n",
    "import matplotlib.pyplot as plt\n",
    "\n",
    "import wavetools as wt\n",
    "\n",
    "P=1\n",
    "wv=wt.wavetools(P)\n",
    "wv.genWVlets()\n",
    "x=np.linspace(0,1,100)\n",
    "\n",
    "for p in range(P):\n",
    "    y=wv.fpsi(p,x)\n",
    "    y=wv.fr(p,x)\n",
    "    #y=wv.fs(x)* (x**0) +(x**0)*(wv.alpha[0,0])\n",
    "    plt.plot(x,y,label='p='+str(p))\n",
    "#ax.legend(arange(P))\n",
    "plt.legend(loc='upper right')\n",
    "plt.grid(True)\n",
    "plt.title('Wavelets, $N_r=0$')\n",
    "plt.show()\n",
    "#(wv.fpsi(1,wv.roots)* wv.fpsi(1,wv.roots)) @ wv.weights\n",
    "#(wv.fpsi(2,wv.roots)* wv.roots**2 )@ wv.weights\n",
    "print(wv.alpha)\n",
    "Nr=0\n",
    "Nri=0\n",
    "for p in range(P):\n",
    "    y=wv.rfpsi(x,p,Nr,Nri)\n",
    "    plt.plot(x,y,label='p='+str(p))\n",
    "plt.legend(loc='best')\n",
    "plt.xlabel('x')\n",
    "plt.ylabel('y')\n",
    "plt.title('Rescaled wavelets $N_r=$'+str(Nr)+', $idx=$'+str(Nri))\n",
    "plt.grid(True)\n",
    "plt.show()\n",
    "#print(x)\n",
    "#print(y)\n"
   ]
  }
 ],
 "metadata": {
  "kernelspec": {
   "display_name": "Python 3",
   "language": "python",
   "name": "python3"
  },
  "language_info": {
   "codemirror_mode": {
    "name": "ipython",
    "version": 3
   },
   "file_extension": ".py",
   "mimetype": "text/x-python",
   "name": "python",
   "nbconvert_exporter": "python",
   "pygments_lexer": "ipython3",
   "version": "3.5.3"
  }
 },
 "nbformat": 4,
 "nbformat_minor": 2
}
