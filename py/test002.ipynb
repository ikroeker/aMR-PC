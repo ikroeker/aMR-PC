{
 "cells": [
  {
   "cell_type": "code",
   "execution_count": 11,
   "metadata": {
    "collapsed": false
   },
   "outputs": [
    {
     "name": "stdout",
     "output_type": "stream",
     "text": [
      "r [-0.90617985 -0.53846931  0.          0.53846931  0.90617985]\n",
      "w [ 0.23692689  0.47862867  0.56888889  0.47862867  0.23692689]\n",
      "nw [ 0.11846344  0.23931434  0.28444444  0.23931434  0.11846344]\n",
      "nr [ 0.04691008  0.23076534  0.5         0.76923466  0.95308992]\n"
     ]
    },
    {
     "data": {
      "text/plain": [
       "1.0"
      ]
     },
     "execution_count": 11,
     "metadata": {},
     "output_type": "execute_result"
    }
   ],
   "source": [
    "import numpy as np\n",
    "\n",
    "a=0\n",
    "b=1\n",
    "deg=5\n",
    "r, w =np.polynomial.legendre.leggauss(deg)\n",
    "print(\"r\",r)\n",
    "print(\"w\",w)\n",
    "nw=w*(b-a)/2\n",
    "nr=(b-a)/2*(r+1)\n",
    "print(\"nw\",nw)\n",
    "print(\"nr\",nr)\n",
    "sum(nw)"
   ]
  }
 ],
 "metadata": {
  "kernelspec": {
   "display_name": "Python 3",
   "language": "python",
   "name": "python3"
  },
  "language_info": {
   "codemirror_mode": {
    "name": "ipython",
    "version": 3
   },
   "file_extension": ".py",
   "mimetype": "text/x-python",
   "name": "python",
   "nbconvert_exporter": "python",
   "pygments_lexer": "ipython3",
   "version": "3.5.3"
  }
 },
 "nbformat": 4,
 "nbformat_minor": 2
}
