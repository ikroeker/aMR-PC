{
 "cells": [
  {
   "cell_type": "code",
   "execution_count": 1,
   "metadata": {},
   "outputs": [
    {
     "data": {
      "text/plain": [
       "{(1,\n",
       "  0,\n",
       "  0): array([-0.0001226 , -0.00128374,  0.00134377,  0.00142627,  0.0005816 ]),\n",
       " (1, 0, 1): array([ -8.45016362e-05,  -4.23842923e-04,   6.89587447e-04,\n",
       "          9.98450201e-04,   2.77610792e-04]),\n",
       " (1,\n",
       "  0,\n",
       "  3): array([ 0.00021785, -0.00063756,  0.0006924 ,  0.00068843,  0.00011472]),\n",
       " (1,\n",
       "  1,\n",
       "  0): array([ 0.00022881, -0.00062035, -0.00014552,  0.00032075,  0.00027855]),\n",
       " (1, 1, 1): array([  7.09549503e-04,  -5.96848366e-04,  -7.42617716e-05,\n",
       "         -1.11314624e-04,   1.30831005e-04]),\n",
       " (1,\n",
       "  1,\n",
       "  3): array([ 0.00821213, -0.01115033, -0.00290569,  0.00402103,  0.00470903])}"
      ]
     },
     "execution_count": 1,
     "metadata": {},
     "output_type": "execute_result"
    }
   ],
   "source": [
    "import pandas as pd\n",
    "import numpy as np\n",
    "#import matplotlib.pyplot as plt\n",
    "import aMRPC.utils as u\n",
    "import aMRPC.datatools as dt\n",
    "import aMRPC.iodata as iod\n",
    "import aMRPC.wavetools as wt\n",
    "\n",
    "# load data\n",
    "dataframe=iod.loadEvalPoints('InputParameters.txt')\n",
    "# threshold parameter\n",
    "epsilon=0.01\n",
    "epsilon=0.005\n",
    "\n",
    "# choose sources\n",
    "srcs=[0,1,3]\n",
    "# polynomial degree\n",
    "No=4\n",
    "# number of resolutions\n",
    "Nr=1\n",
    "# approach method of pol.coefficients\n",
    "method=0\n",
    "# dim\n",
    "dim=len(srcs)\n",
    "Nrs=Nr*np.ones(dim)\n",
    "\n",
    "#NrRange=np.arange(Nr+1)\n",
    "NrRange=[Nr]\n",
    "P=No+1\n",
    "wv=wt.wavetools(P)\n",
    "wv.genWVlets()\n",
    "Qdict=dt.genQuantDict(dataframe,srcs,NrRange,wv)\n",
    "Dtdict=dt.genDetailDict(Qdict,wv)\n",
    "Dtdict"
   ]
  }
 ],
 "metadata": {
  "kernelspec": {
   "display_name": "Python 3",
   "language": "python",
   "name": "python3"
  },
  "language_info": {
   "codemirror_mode": {
    "name": "ipython",
    "version": 3
   },
   "file_extension": ".py",
   "mimetype": "text/x-python",
   "name": "python",
   "nbconvert_exporter": "python",
   "pygments_lexer": "ipython3",
   "version": "3.6.8"
  }
 },
 "nbformat": 4,
 "nbformat_minor": 2
}
