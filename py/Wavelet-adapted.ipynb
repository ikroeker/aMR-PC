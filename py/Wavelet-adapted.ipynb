{
 "cells": [
  {
   "cell_type": "code",
   "execution_count": 7,
   "metadata": {},
   "outputs": [
    {
     "name": "stdout",
     "output_type": "stream",
     "text": [
      "{(0, 0, 0): 0.014485359454005503, (1, 0, 0): 0.0047579733917301635, (1, 1, 0): 0.0015939880158958118, (0, 0, 1): 0.012363354891134572, (1, 0, 1): 0.0024739929992353788, (1, 1, 1): 0.0016228052694300544, (0, 0, 3): 0.070200859272962185, (1, 0, 3): 0.0023509660051766537, (1, 1, 3): 0.030998208890651652} \n",
      " {(0, 0, 0): True, (1, 0, 0): False, (1, 1, 0): False, (0, 0, 1): True, (1, 0, 1): False, (1, 1, 1): False, (0, 0, 3): True, (1, 0, 3): False, (1, 1, 3): True}\n"
     ]
    }
   ],
   "source": [
    "import pandas as pd\n",
    "import numpy as np\n",
    "#import matplotlib.pyplot as plt\n",
    "import aMRPC.utils as u\n",
    "import aMRPC.datatools as dt\n",
    "import aMRPC.iodata as iod\n",
    "import aMRPC.wavetools as wt\n",
    "\n",
    "# load data\n",
    "dataframe=iod.loadEvalPoints('InputParameters.txt')\n",
    "# threshold parameter\n",
    "epsilon=0.01\n",
    "epsilon=0.005\n",
    "\n",
    "# choose sources\n",
    "srcs=[0,1,3]\n",
    "# polynomial degree\n",
    "No=4\n",
    "# number of resolutions\n",
    "Nr=1\n",
    "# approach method of pol.coefficients\n",
    "method=0\n",
    "# dim\n",
    "dim=len(srcs)\n",
    "Nrs=Nr*np.ones(dim)\n",
    "\n",
    "#NrRange=np.arange(Nr+1)\n",
    "NrRange=np.arange(Nr+1)\n",
    "P=No+1\n",
    "wv=wt.wavetools(P)\n",
    "wv.genWVlets()\n",
    "Qdict=dt.genQuantDict(dataframe,srcs,NrRange,wv)\n",
    "Dtdict=dt.genDetailDict(Qdict,wv)\n",
    "Kdict=dt.markDict4keep(Dtdict,epsilon)\n",
    "print(Dtdict,'\\n',Kdict)"
   ]
  }
 ],
 "metadata": {
  "kernelspec": {
   "display_name": "Python 3",
   "language": "python",
   "name": "python3"
  },
  "language_info": {
   "codemirror_mode": {
    "name": "ipython",
    "version": 3
   },
   "file_extension": ".py",
   "mimetype": "text/x-python",
   "name": "python",
   "nbconvert_exporter": "python",
   "pygments_lexer": "ipython3",
   "version": "3.6.8"
  }
 },
 "nbformat": 4,
 "nbformat_minor": 2
}
