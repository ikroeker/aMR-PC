{
 "cells": [
  {
   "cell_type": "code",
   "execution_count": 1,
   "metadata": {},
   "outputs": [
    {
     "name": "stdout",
     "output_type": "stream",
     "text": [
      "{(0, 0, 0): 0.014051140888567661, (1, 0, 0): 0.010902040737106279, (1, 1, 0): 0.003917635065835404, (2, 0, 0): 0.0099630800488909616, (2, 1, 0): 0.0010667139633535306, (2, 2, 0): 0.00036721402805371542, (2, 3, 0): 0.0019032499315547865, (3, 0, 0): 0.011606737557816476, (3, 1, 0): 0.00087903342435944167, (3, 2, 0): 0.0003642859878883924, (3, 3, 0): 0.00064801726379438464, (3, 4, 0): 0.00036770634056718186, (3, 5, 0): 0.00051544951785236414, (3, 6, 0): 0.00058352703080725467, (3, 7, 0): 0.00088379859509112035} \n",
      " {(0, 0, 0): True, (1, 0, 0): True, (1, 1, 0): False, (2, 0, 0): True, (2, 1, 0): False, (2, 2, 0): False, (2, 3, 0): False, (3, 0, 0): True, (3, 1, 0): False, (3, 2, 0): False, (3, 3, 0): False, (3, 4, 0): False, (3, 5, 0): False, (3, 6, 0): False, (3, 7, 0): False}\n",
      "(1, 1, 0) \n",
      "\n",
      "(2, 1, 0) \n",
      "\n",
      "(3, 0, 0) \n",
      "\n",
      "(3, 1, 0) \n",
      "\n"
     ]
    }
   ],
   "source": [
    "import pandas as pd\n",
    "import numpy as np\n",
    "#import matplotlib.pyplot as plt\n",
    "import aMRPC.utils as u\n",
    "import aMRPC.datatools as dt\n",
    "import aMRPC.iodata as iod\n",
    "import aMRPC.wavetools as wt\n",
    "\n",
    "# load data\n",
    "dataframe=iod.loadEvalPoints('InputParameters.txt')\n",
    "# threshold parameter\n",
    "epsilon=0.01\n",
    "epsilon=0.005\n",
    "\n",
    "# choose sources\n",
    "srcs=[0]\n",
    "# polynomial degree\n",
    "No=3\n",
    "# number of resolutions\n",
    "Nr=3\n",
    "# approach method of pol.coefficients\n",
    "method=0\n",
    "# dim\n",
    "dim=len(srcs)\n",
    "Nrs=Nr*np.ones(dim)\n",
    "\n",
    "#NrRange=np.arange(Nr+1)\n",
    "NrRange=np.arange(Nr+1)\n",
    "P=No+1\n",
    "wv=wt.wavetools(P)\n",
    "wv.genWVlets()\n",
    "Qdict=dt.genQuantDict(dataframe,srcs,NrRange,wv)\n",
    "Dtdict=dt.genDetailDict(Qdict,wv)\n",
    "Kdict=dt.markDict4keep(Dtdict,epsilon)\n",
    "print(Dtdict,'\\n',Kdict)\n",
    "#print(Kdict)\n",
    "tKeys=dt.getTopKeys(Kdict,srcs)\n",
    "for key, val in tKeys.items():\n",
    "    if val:\n",
    "        print(key,\"\\n\")"
   ]
  }
 ],
 "metadata": {
  "kernelspec": {
   "display_name": "Python 3",
   "language": "python",
   "name": "python3"
  },
  "language_info": {
   "codemirror_mode": {
    "name": "ipython",
    "version": 3
   },
   "file_extension": ".py",
   "mimetype": "text/x-python",
   "name": "python",
   "nbconvert_exporter": "python",
   "pygments_lexer": "ipython3",
   "version": "3.6.8"
  }
 },
 "nbformat": 4,
 "nbformat_minor": 2
}
