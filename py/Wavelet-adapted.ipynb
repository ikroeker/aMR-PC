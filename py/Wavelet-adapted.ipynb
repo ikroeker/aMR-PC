{
 "cells": [
  {
   "cell_type": "code",
   "execution_count": 1,
   "metadata": {},
   "outputs": [
    {
     "name": "stdout",
     "output_type": "stream",
     "text": [
      "Kdict: {(0, 0, 0): False, (1, 0, 0): False, (1, 1, 0): True, (2, 0, 0): False, (2, 1, 0): True, (2, 2, 0): False, (2, 3, 0): False, (3, 0, 0): True, (3, 1, 0): True, (3, 2, 0): False, (3, 3, 0): False, (3, 4, 0): False, (3, 5, 0): False, (3, 6, 0): False, (3, 7, 0): False}\n",
      "kArr: [[(1, 1, 0), (2, 1, 0), (3, 0, 0), (3, 1, 0)]]\n",
      "mkey= []\n"
     ]
    },
    {
     "ename": "TypeError",
     "evalue": "'numpy.float64' object cannot be interpreted as an integer",
     "output_type": "error",
     "traceback": [
      "\u001b[0;31m---------------------------------------------------------------------------\u001b[0m",
      "\u001b[0;31mTypeError\u001b[0m                                 Traceback (most recent call last)",
      "\u001b[0;32m<ipython-input-1-2e72567672e2>\u001b[0m in \u001b[0;36m<module>\u001b[0;34m()\u001b[0m\n\u001b[1;32m     48\u001b[0m \u001b[0;31m# get roots and weights for the output\u001b[0m\u001b[0;34m\u001b[0m\u001b[0;34m\u001b[0m\u001b[0;34m\u001b[0m\u001b[0m\n\u001b[1;32m     49\u001b[0m \u001b[0;31m#tR,tW=dt.getRW4Nrs(Nrs,srcs,R,W)\u001b[0m\u001b[0;34m\u001b[0m\u001b[0;34m\u001b[0m\u001b[0;34m\u001b[0m\u001b[0m\n\u001b[0;32m---> 50\u001b[0;31m \u001b[0mtR\u001b[0m\u001b[0;34m,\u001b[0m \u001b[0mtW\u001b[0m\u001b[0;34m=\u001b[0m\u001b[0mdt\u001b[0m\u001b[0;34m.\u001b[0m\u001b[0mgetRW4kDict\u001b[0m\u001b[0;34m(\u001b[0m\u001b[0mtopKeys\u001b[0m\u001b[0;34m,\u001b[0m\u001b[0msrcs\u001b[0m\u001b[0;34m,\u001b[0m\u001b[0mR\u001b[0m\u001b[0;34m,\u001b[0m\u001b[0mW\u001b[0m\u001b[0;34m)\u001b[0m\u001b[0;34m\u001b[0m\u001b[0;34m\u001b[0m\u001b[0m\n\u001b[0m\u001b[1;32m     51\u001b[0m \u001b[0mprint\u001b[0m\u001b[0;34m(\u001b[0m\u001b[0mtR\u001b[0m\u001b[0;34m)\u001b[0m\u001b[0;34m\u001b[0m\u001b[0;34m\u001b[0m\u001b[0m\n\u001b[1;32m     52\u001b[0m \u001b[0;31m# add col 2 for c+ file\u001b[0m\u001b[0;34m\u001b[0m\u001b[0;34m\u001b[0m\u001b[0;34m\u001b[0m\u001b[0m\n",
      "\u001b[0;32m/data/homes/kroeker/Softwareprojekte/ik_amr-pc/py/aMRPC/datatools.py\u001b[0m in \u001b[0;36mgetRW4kDict\u001b[0;34m(Kdict, srcs, Roots, Weights)\u001b[0m\n\u001b[1;32m    328\u001b[0m     \u001b[0;32mfor\u001b[0m \u001b[0mmkey\u001b[0m \u001b[0;32min\u001b[0m \u001b[0mkArr\u001b[0m\u001b[0;34m:\u001b[0m\u001b[0;34m\u001b[0m\u001b[0;34m\u001b[0m\u001b[0m\n\u001b[1;32m    329\u001b[0m         \u001b[0mprint\u001b[0m\u001b[0;34m(\u001b[0m\u001b[0;34m\"mkey=\"\u001b[0m\u001b[0;34m,\u001b[0m\u001b[0mmkey\u001b[0m\u001b[0;34m)\u001b[0m\u001b[0;34m\u001b[0m\u001b[0;34m\u001b[0m\u001b[0m\n\u001b[0;32m--> 330\u001b[0;31m         \u001b[0mr\u001b[0m\u001b[0;34m,\u001b[0m\u001b[0mw\u001b[0m\u001b[0;34m=\u001b[0m\u001b[0mgenRW4mkey\u001b[0m\u001b[0;34m(\u001b[0m\u001b[0mmkey\u001b[0m\u001b[0;34m,\u001b[0m\u001b[0mRoots\u001b[0m\u001b[0;34m,\u001b[0m\u001b[0mWeights\u001b[0m\u001b[0;34m)\u001b[0m\u001b[0;34m\u001b[0m\u001b[0;34m\u001b[0m\u001b[0m\n\u001b[0m\u001b[1;32m    331\u001b[0m         \u001b[0;32mif\u001b[0m \u001b[0mlen\u001b[0m\u001b[0;34m(\u001b[0m\u001b[0mR\u001b[0m\u001b[0;34m)\u001b[0m\u001b[0;34m==\u001b[0m\u001b[0;36m0\u001b[0m\u001b[0;34m:\u001b[0m\u001b[0;34m\u001b[0m\u001b[0;34m\u001b[0m\u001b[0m\n\u001b[1;32m    332\u001b[0m             \u001b[0mR\u001b[0m\u001b[0;34m=\u001b[0m\u001b[0mr\u001b[0m\u001b[0;34m\u001b[0m\u001b[0;34m\u001b[0m\u001b[0m\n",
      "\u001b[0;32m/data/homes/kroeker/Softwareprojekte/ik_amr-pc/py/aMRPC/datatools.py\u001b[0m in \u001b[0;36mgenRW4mkey\u001b[0;34m(mKey, Roots, Weights)\u001b[0m\n\u001b[1;32m    169\u001b[0m     \u001b[0mlens\u001b[0m\u001b[0;34m=\u001b[0m\u001b[0mnp\u001b[0m\u001b[0;34m.\u001b[0m\u001b[0marray\u001b[0m\u001b[0;34m(\u001b[0m\u001b[0mls\u001b[0m\u001b[0;34m)\u001b[0m\u001b[0;34m\u001b[0m\u001b[0;34m\u001b[0m\u001b[0m\n\u001b[1;32m    170\u001b[0m     \u001b[0mlines\u001b[0m\u001b[0;34m=\u001b[0m\u001b[0mlens\u001b[0m\u001b[0;34m.\u001b[0m\u001b[0mprod\u001b[0m\u001b[0;34m(\u001b[0m\u001b[0;34m)\u001b[0m\u001b[0;34m\u001b[0m\u001b[0;34m\u001b[0m\u001b[0m\n\u001b[0;32m--> 171\u001b[0;31m     \u001b[0mI\u001b[0m\u001b[0;34m=\u001b[0m\u001b[0mu\u001b[0m\u001b[0;34m.\u001b[0m\u001b[0mmIdx4quad\u001b[0m\u001b[0;34m(\u001b[0m\u001b[0mlens\u001b[0m\u001b[0;34m)\u001b[0m\u001b[0;34m\u001b[0m\u001b[0;34m\u001b[0m\u001b[0m\n\u001b[0m\u001b[1;32m    172\u001b[0m     \u001b[0mRs\u001b[0m\u001b[0;34m=\u001b[0m\u001b[0mnp\u001b[0m\u001b[0;34m.\u001b[0m\u001b[0mzeros\u001b[0m\u001b[0;34m(\u001b[0m\u001b[0;34m(\u001b[0m\u001b[0mlines\u001b[0m\u001b[0;34m,\u001b[0m\u001b[0mcols\u001b[0m\u001b[0;34m)\u001b[0m\u001b[0;34m)\u001b[0m\u001b[0;34m\u001b[0m\u001b[0;34m\u001b[0m\u001b[0m\n\u001b[1;32m    173\u001b[0m     \u001b[0mWs\u001b[0m\u001b[0;34m=\u001b[0m\u001b[0mnp\u001b[0m\u001b[0;34m.\u001b[0m\u001b[0mzeros\u001b[0m\u001b[0;34m(\u001b[0m\u001b[0;34m[\u001b[0m\u001b[0mlines\u001b[0m\u001b[0;34m,\u001b[0m\u001b[0mcols\u001b[0m\u001b[0;34m]\u001b[0m\u001b[0;34m)\u001b[0m\u001b[0;34m\u001b[0m\u001b[0;34m\u001b[0m\u001b[0m\n",
      "\u001b[0;32m/data/homes/kroeker/Softwareprojekte/ik_amr-pc/py/aMRPC/utils.py\u001b[0m in \u001b[0;36mmIdx4quad\u001b[0;34m(arLens)\u001b[0m\n\u001b[1;32m     29\u001b[0m     \u001b[0mcols\u001b[0m\u001b[0;34m=\u001b[0m\u001b[0mlen\u001b[0m\u001b[0;34m(\u001b[0m\u001b[0marLens\u001b[0m\u001b[0;34m)\u001b[0m\u001b[0;34m\u001b[0m\u001b[0;34m\u001b[0m\u001b[0m\n\u001b[1;32m     30\u001b[0m     \u001b[0mlines\u001b[0m\u001b[0;34m=\u001b[0m\u001b[0mnLens\u001b[0m\u001b[0;34m.\u001b[0m\u001b[0mprod\u001b[0m\u001b[0;34m(\u001b[0m\u001b[0;34m)\u001b[0m\u001b[0;34m\u001b[0m\u001b[0;34m\u001b[0m\u001b[0m\n\u001b[0;32m---> 31\u001b[0;31m     \u001b[0mI\u001b[0m\u001b[0;34m=\u001b[0m\u001b[0mnp\u001b[0m\u001b[0;34m.\u001b[0m\u001b[0mzeros\u001b[0m\u001b[0;34m(\u001b[0m\u001b[0;34m(\u001b[0m\u001b[0mlines\u001b[0m\u001b[0;34m,\u001b[0m\u001b[0mcols\u001b[0m\u001b[0;34m)\u001b[0m\u001b[0;34m,\u001b[0m\u001b[0mdtype\u001b[0m\u001b[0;34m=\u001b[0m\u001b[0mint\u001b[0m\u001b[0;34m)\u001b[0m\u001b[0;34m\u001b[0m\u001b[0;34m\u001b[0m\u001b[0m\n\u001b[0m\u001b[1;32m     32\u001b[0m     \u001b[0mdivs\u001b[0m\u001b[0;34m=\u001b[0m\u001b[0mnp\u001b[0m\u001b[0;34m.\u001b[0m\u001b[0mzeros\u001b[0m\u001b[0;34m(\u001b[0m\u001b[0mcols\u001b[0m\u001b[0;34m)\u001b[0m\u001b[0;34m\u001b[0m\u001b[0;34m\u001b[0m\u001b[0m\n\u001b[1;32m     33\u001b[0m     \u001b[0;32mfor\u001b[0m \u001b[0mc\u001b[0m \u001b[0;32min\u001b[0m \u001b[0mrange\u001b[0m\u001b[0;34m(\u001b[0m\u001b[0mcols\u001b[0m\u001b[0;34m)\u001b[0m\u001b[0;34m:\u001b[0m\u001b[0;34m\u001b[0m\u001b[0;34m\u001b[0m\u001b[0m\n",
      "\u001b[0;31mTypeError\u001b[0m: 'numpy.float64' object cannot be interpreted as an integer"
     ]
    }
   ],
   "source": [
    "import pandas as pd\n",
    "import numpy as np\n",
    "#import matplotlib.pyplot as plt\n",
    "import aMRPC.utils as u\n",
    "import aMRPC.datatools as dt\n",
    "import aMRPC.iodata as iod\n",
    "import aMRPC.wavetools as wt\n",
    "import aMRPC.polytools as pt\n",
    "\n",
    "# load data\n",
    "dataframe=iod.loadEvalPoints('InputParameters.txt')\n",
    "# threshold parameter\n",
    "epsilon=0.01\n",
    "epsilon=0.005\n",
    "\n",
    "# choose sources\n",
    "srcs=[0]\n",
    "# polynomial degree\n",
    "No=3\n",
    "# number of resolutions\n",
    "Nr=3\n",
    "# approach method of pol.coefficients\n",
    "method=0\n",
    "# dim\n",
    "dim=len(srcs)\n",
    "Nrs=Nr*np.ones(dim)\n",
    "#NrRange=np.arange(Nr+1)\n",
    "NrRange=np.arange(Nr+1)\n",
    "\n",
    "# generate wavelets and compute details\n",
    "P=No+1\n",
    "wv=wt.wavetools(P)\n",
    "wv.genWVlets()\n",
    "Qdict=dt.genQuantDict(dataframe,srcs,NrRange,wv)\n",
    "Dtdict=dt.genDetailDict(Qdict,wv)\n",
    "Kdict=dt.markDict4keep(Dtdict,epsilon)\n",
    "topKeys=dt.getTopKeys(Kdict,srcs)\n",
    "\n",
    "# generate polynomials compare with Rooots-n-Weights\n",
    "# Generate Hankel matrices\n",
    "Hdict=dt.genHankel(dataframe,srcs,NrRange,No)\n",
    "# Roots and Weights\n",
    "R,W=dt.genRootsWeights(Hdict,method)\n",
    "# (monic) orthogonal polynomial coefficients\n",
    "#PCdict=dt.genPCs(Hdict,method)\n",
    "# normed orthogonal polynomials\n",
    "#nPCdict=dt.genNPCs(PCdict,R,W)\n",
    "# get roots and weights for the output\n",
    "#tR,tW=dt.getRW4Nrs(Nrs,srcs,R,W)\n",
    "tR, tW=dt.getRW4kDict(topKeys,srcs,R,W)\n",
    "print(tR)\n",
    "# add col 2 for c+ file\n",
    "#ocols=[0,1,2,2]\n",
    "#zcol=[2]\n",
    "#oR=u.chooseCols(tR,ocols,zcol)\n",
    "#oW=u.chooseCols(tW,ocols,zcol)\n",
    "\n",
    "# gen fname and write ascii output\n",
    "# roots\n",
    "fargs={'Nr':str(Nr), 'No':str(No)}\n",
    "fname=iod.genFname(1,**fargs)\n",
    "#iod.writeEvalPoints(oR,fname)\n",
    "# test\n",
    "#T=iod.loadEvalPoints(fname)\n",
    "#print(T-oR)\n",
    "# weights\n",
    "fname=iod.genFname(2,**fargs)\n",
    "#iod.writeEvalPoints(oR,fname)"
   ]
  }
 ],
 "metadata": {
  "kernelspec": {
   "display_name": "Python 3",
   "language": "python",
   "name": "python3"
  },
  "language_info": {
   "codemirror_mode": {
    "name": "ipython",
    "version": 3
   },
   "file_extension": ".py",
   "mimetype": "text/x-python",
   "name": "python",
   "nbconvert_exporter": "python",
   "pygments_lexer": "ipython3",
   "version": "3.6.8"
  }
 },
 "nbformat": 4,
 "nbformat_minor": 2
}
