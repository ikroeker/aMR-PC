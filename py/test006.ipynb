{
 "cells": [
  {
   "cell_type": "code",
   "execution_count": 69,
   "metadata": {},
   "outputs": [
    {
     "name": "stdout",
     "output_type": "stream",
     "text": [
      "{(0, 0): 0.014051140888567661, (1, 0): 0.010902040737106279, (1, 1): 0.003917635065835404, (2, 0): 0.0099630800488909616, (2, 1): 0.0010667139633535306, (2, 2): 0.00036721402805371542, (2, 3): 0.0019032499315547865, (3, 0): 0.011606737557816476, (3, 1): 0.00087903342435944167, (3, 2): 0.0003642859878883924, (3, 3): 0.00064801726379438464, (3, 4): 0.00036770634056718186, (3, 5): 0.00051544951785236414, (3, 6): 0.00058352703080725467, (3, 7): 0.00088379859509112035}\n"
     ]
    },
    {
     "data": {
      "image/png": "[encoded data removed]",
      "text/plain": [
       "<matplotlib.figure.Figure at 0x7f951735c3c8>"
      ]
     },
     "metadata": {},
     "output_type": "display_data"
    },
    {
     "data": {
      "image/png": "[encoded data removed]",
      "text/plain": [
       "<matplotlib.figure.Figure at 0x7f9516f4e710>"
      ]
     },
     "metadata": {},
     "output_type": "display_data"
    }
   ],
   "source": [
    "import numpy as np\n",
    "import matplotlib.pyplot as plt\n",
    "#from matplotlib.ticker import MaxNLocator\n",
    "import pandas as pd\n",
    "import wavetools as wt\n",
    "\n",
    "Nr=3\n",
    "No=3\n",
    "src=0\n",
    "epsilon=0.01\n",
    "# data location\n",
    "url='../data/InputParameters.txt'\n",
    "# load data\n",
    "dataframe=pd.read_csv(url,header=None,sep='\\s+ ',engine='python')\n",
    "P=No+1\n",
    "wv=wt.wavetools(P)\n",
    "wv.genWVlets()\n",
    "roots=np.copy(wv.roots)\n",
    "data=dataframe[src]\n",
    "details={}\n",
    "lDetails=np.zeros(P)\n",
    "rlen=roots.shape[0]\n",
    "QuantileOnRoots=np.zeros(rlen)\n",
    "for aNr in range(Nr+1):\n",
    "    cNri=2**aNr\n",
    "    for Nri in range(cNri):\n",
    "        r=np.copy(wv.roots)\n",
    "        if aNr>0:\n",
    "            r=wv.rescY(roots,aNr,Nri)\n",
    "        for i in range(rlen):\n",
    "            QuantileOnRoots[i]=data.quantile(r[i])\n",
    "        lDetails=wv.cmpDetails(QuantileOnRoots)\n",
    "        details[(aNr,Nri)]=sum(abs(lDetails))\n",
    "\n",
    "print(details)\n",
    "def maptoZ(NrMax,Nr,Nri,details):\n",
    "    NriCnt=2**NrMax\n",
    "    NrDiff=NrMax-Nr\n",
    "    realNri=Nri// (2**NrDiff)\n",
    "    #print(\"({},{}->{})\".format(Nr,Nri,realNri))\n",
    "    return details[(Nr,realNri)]\n",
    "#maptoZ(Nr,2,4,details)\n",
    "x=np.arange(0,Nr+1)\n",
    "y=np.arange(0,2**Nr+1)\n",
    "X,Y =np.meshgrid(x,y,indexing='ij')\n",
    "Z=np.zeros(X.shape)\n",
    "lX=X.size\n",
    "for i in range(Nr+1):\n",
    "    for j in range(2**Nr):\n",
    "        Z[i,j]=maptoZ(Nr,X[i,j],Y[i,j],details)\n",
    "\n",
    "plt.hist(data)\n",
    "plt.show()\n",
    "#levels = MaxNLocator(nbins=15).tick_values(Z.min(), Z.max())\n",
    "#plt.contourf(X,Y,Z,levels=levels)\n",
    "#plt.colorbar()\n",
    "#plt.show()\n",
    "plt.pcolormesh(X,Y,Z)\n",
    "plt.colorbar()\n",
    "plt.show()"
   ]
  }
 ],
 "metadata": {
  "kernelspec": {
   "display_name": "Python 3",
   "language": "python",
   "name": "python3"
  },
  "language_info": {
   "codemirror_mode": {
    "name": "ipython",
    "version": 3
   },
   "file_extension": ".py",
   "mimetype": "text/x-python",
   "name": "python",
   "nbconvert_exporter": "python",
   "pygments_lexer": "ipython3",
   "version": "3.6.8"
  }
 },
 "nbformat": 4,
 "nbformat_minor": 2
}
