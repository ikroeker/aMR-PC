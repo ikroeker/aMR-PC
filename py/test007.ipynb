{
 "cells": [
  {
   "cell_type": "code",
   "execution_count": 1,
   "metadata": {},
   "outputs": [
    {
     "name": "stdout",
     "output_type": "stream",
     "text": [
      "alpha [2 0]\n",
      "((0, 0, 0), (0, 0, 1))\n",
      "[[  9.23035869 -32.48111279  26.0510954 ]\n",
      " [  1.           0.           0.        ]]\n"
     ]
    },
    {
     "data": {
      "text/plain": [
       "<matplotlib.figure.Figure at 0x7f27c8ef4d68>"
      ]
     },
     "metadata": {},
     "output_type": "display_data"
    },
    {
     "data": {
      "text/plain": [
       "<matplotlib.figure.Figure at 0x7f279bd1fac8>"
      ]
     },
     "metadata": {},
     "output_type": "display_data"
    },
    {
     "name": "stdout",
     "output_type": "stream",
     "text": [
      "<F,G>= -2.77555756156e-17\n",
      "<f,g>= 5.55111512313e-17\n",
      "<f,g>= 5.55111512313e-17\n",
      "<F,G>= -2.77555756156e-17\n",
      "[2, 2]\n",
      "(256, 2) (256, 2)\n"
     ]
    }
   ],
   "source": [
    "import pandas as pd\n",
    "import numpy as np\n",
    "import matplotlib.pyplot as plt\n",
    "import aMRPC.utils as u\n",
    "import aMRPC.datatools as dt\n",
    "import aMRPC.polytools as pt\n",
    "\n",
    "\n",
    "# data location\n",
    "url='../data/InputParameters.txt'\n",
    "\n",
    "# load data\n",
    "dataframe=pd.read_csv(url,header=None,sep='\\s+ ',engine='python')\n",
    "#data=dataframe.loc[:,0:1]\n",
    "#print(data.describe())\n",
    "\n",
    "srcs=[0,1]\n",
    "No=4\n",
    "Nr=2\n",
    "method=0\n",
    "NrRange=np.arange(Nr+1)\n",
    "dim=len(srcs)\n",
    "\n",
    "Hdict=dt.genHankel(dataframe,srcs,NrRange,No)\n",
    "#print(Hdict)\n",
    "# further with test004\n",
    "R,W=dt.genRootsWeights(Hdict,method)\n",
    "#print(R,W)\n",
    "PCdict=dt.genPCs(Hdict,method)\n",
    "nPCdict=dt.genNPCs(PCdict,R,W)\n",
    "\n",
    "Alphas=u.genMultiIdx(No,dim)\n",
    "aa=9\n",
    "ab=10\n",
    "print(\"alpha\",Alphas[aa])\n",
    "\n",
    "Nrs=[2, 2]\n",
    "aNrs=[0, 0]\n",
    "Nris=[0, 0]\n",
    "#srcs=[0, 1]\n",
    "\n",
    "mk=u.genMultiKey(aNrs,Nris,srcs)\n",
    "mk[1][u.ParPos['aNr']]\n",
    "print(mk)\n",
    "\n",
    "aR,aW=dt.genRW4mkey(mk,R,W)\n",
    "#aR\n",
    "Cfs=dt.PCfs4eval(nPCdict,mk,Alphas[aa])\n",
    "print(Cfs)\n",
    "Cfsb=dt.PCfs4eval(nPCdict,mk,Alphas[ab])\n",
    "\n",
    "xa=np.array(dataframe[srcs[0]])\n",
    "xb=np.array(dataframe[srcs[1]])\n",
    "xa.sort()\n",
    "xb.sort()\n",
    "\n",
    "\n",
    "F=lambda x:pt.PCeval(Cfs,x)\n",
    "G=lambda x:pt.PCeval(Cfsb,x)\n",
    "\n",
    "X=np.array([xa,xb]).T\n",
    "#Y=pt.PCeval(Cfs,X)\n",
    "Y=F(X)\n",
    "plt.plot(X[:,0],Y[:,0])\n",
    "plt.show()\n",
    "\n",
    "plt.plot(X[:,1],Y[:,1])\n",
    "plt.show()\n",
    "\n",
    "fa=lambda x:pt.PCeval(Cfs[0,:],x)\n",
    "fb=lambda x:pt.PCeval(Cfs[1,:],x)\n",
    "f=(fa,fb)\n",
    "ga=lambda x:pt.PCeval(Cfsb[0,:],x)\n",
    "gb=lambda x:pt.PCeval(Cfsb[1,:],x)\n",
    "g=(ga,gb)\n",
    "\n",
    "q=dt.innerProdFct(F,G,aR,aW)\n",
    "print(\"<F,G>=\",q)\n",
    "qa=dt.innerProdArr(f,g,aR,aW)\n",
    "print(\"<f,g>=\",qa)\n",
    "qmt=dt.innerProdMultiIdx(f,g,mk,R,W)\n",
    "print(\"<f,g>=\",qmt)\n",
    "qmf=dt.innerProdMultiIdx(F,G,mk,R,W)\n",
    "print(\"<F,G>=\",qmf)\n",
    "\n",
    "#a=np.array([])\n",
    "#b=np.zeros(3)\n",
    "#c=np.concatenate((a,b),axis=0)\n",
    "#c=np.reshape(c,(-1,3))\n",
    "#print(c)\n",
    "#d=np.concatenate((c,[[1,5,3],[2,7,8]]),axis=0)\n",
    "#np.append([5,6,7],a)\n",
    "#print(d)\n",
    "\n",
    "#print(R,W)\n",
    "oR,oW=dt.getRW4Nrs(Nrs,srcs,R,W)\n",
    "print(Nrs)\n",
    "#print(oR,'\\n\\n',oW)\n",
    "print(oR.shape,oW.shape)"
   ]
  }
 ],
 "metadata": {
  "kernelspec": {
   "display_name": "Python 3",
   "language": "python",
   "name": "python3"
  },
  "language_info": {
   "codemirror_mode": {
    "name": "ipython",
    "version": 3
   },
   "file_extension": ".py",
   "mimetype": "text/x-python",
   "name": "python",
   "nbconvert_exporter": "python",
   "pygments_lexer": "ipython3",
   "version": "3.6.8"
  }
 },
 "nbformat": 4,
 "nbformat_minor": 2
}
