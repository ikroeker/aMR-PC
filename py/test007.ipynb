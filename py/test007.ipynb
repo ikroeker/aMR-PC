{
 "cells": [
  {
   "cell_type": "code",
   "execution_count": 1,
   "metadata": {},
   "outputs": [
    {
     "name": "stdout",
     "output_type": "stream",
     "text": [
      "((2, 2, 2, 0), (2, 2, 0, 1))\n",
      "[0 1 2 3 0 1 2 3 0 1 2 3 0 1 2 3] [ 0.69616925  0.72871746  0.80101465  0.7693116 ]\n",
      "[0 0 0 0 1 1 1 1 2 2 2 2 3 3 3 3] [ 0.30782536  0.23396393  0.04320757  0.13300625]\n"
     ]
    }
   ],
   "source": [
    "import pandas as pd\n",
    "import numpy as np\n",
    "import utils as u\n",
    "import datatools as dt\n",
    "import polytools as pt\n",
    "\n",
    "# data location\n",
    "url='../data/InputParameters.txt'\n",
    "\n",
    "# load data\n",
    "dataframe=pd.read_csv(url,header=None,sep='\\s+ ',engine='python')\n",
    "\n",
    "srcs=[0,1,3]\n",
    "No=4\n",
    "Nr=2\n",
    "method=0\n",
    "NrRange=np.arange(Nr+1)\n",
    "dim=len(srcs)\n",
    "\n",
    "Hdict=dt.genHankel(dataframe,srcs,NrRange,No)\n",
    "#print(Hdict)\n",
    "# further with test004\n",
    "R,W=dt.genRootsWeights(Hdict,method)\n",
    "#print(R,W)\n",
    "Alphas=u.genMultiIdx(No,dim)\n",
    "\n",
    "Nrs=[2, 2]\n",
    "aNrs=[2, 2]\n",
    "Nris=[2, 0]\n",
    "srcs=[0, 1]\n",
    "\n",
    "#idx=np.array([0,1,0,1,4,4,4,3,0,0,0])\n",
    "#a=np.array([0,2.5,3.5,4,5,6])\n",
    "#print(a[idx])\n",
    "\n",
    "mk=u.genMultiKey(Nrs,aNrs,Nris,srcs)\n",
    "mk[1][u.ParPos['aNr']]\n",
    "print(mk)\n",
    "\n",
    "aR,aW=dt.genRW4mkey(mk,R,W)\n",
    "\n",
    "#aR\n",
    "\n"
   ]
  }
 ],
 "metadata": {
  "kernelspec": {
   "display_name": "Python 3",
   "language": "python",
   "name": "python3"
  },
  "language_info": {
   "codemirror_mode": {
    "name": "ipython",
    "version": 3
   },
   "file_extension": ".py",
   "mimetype": "text/x-python",
   "name": "python",
   "nbconvert_exporter": "python",
   "pygments_lexer": "ipython3",
   "version": "3.6.8"
  }
 },
 "nbformat": 4,
 "nbformat_minor": 2
}
