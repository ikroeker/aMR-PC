{
 "cells": [
  {
   "cell_type": "code",
   "execution_count": 1,
   "metadata": {},
   "outputs": [
    {
     "name": "stdout",
     "output_type": "stream",
     "text": [
      "['', '/usr/lib/python36.zip', '/usr/lib/python3.6', '/usr/lib/python3.6/lib-dynload', '/usr/local/lib/python3.6/dist-packages', '/usr/lib/python3/dist-packages', '/usr/lib/python3/dist-packages/IPython/extensions', '/data/homes/kroeker/.ipython', '/..']\n",
      "/data/homes/kroeker/Softwareprojekte/ik_amr-pc/tests\n",
      "['', '/usr/lib/python36.zip', '/usr/lib/python3.6', '/usr/lib/python3.6/lib-dynload', '/usr/local/lib/python3.6/dist-packages', '/usr/lib/python3/dist-packages', '/usr/lib/python3/dist-packages/IPython/extensions', '/data/homes/kroeker/.ipython', '/..']\n"
     ]
    },
    {
     "ename": "ModuleNotFoundError",
     "evalue": "No module named 'aMRPC'",
     "output_type": "error",
     "traceback": [
      "\u001b[0;31m---------------------------------------------------------------------------\u001b[0m",
      "\u001b[0;31mModuleNotFoundError\u001b[0m                       Traceback (most recent call last)",
      "\u001b[0;32m<ipython-input-1-42c9a4ee958e>\u001b[0m in \u001b[0;36m<module>\u001b[0;34m()\u001b[0m\n\u001b[1;32m      5\u001b[0m \u001b[0;32mimport\u001b[0m \u001b[0maddparent2path\u001b[0m\u001b[0;34m\u001b[0m\u001b[0;34m\u001b[0m\u001b[0m\n\u001b[1;32m      6\u001b[0m \u001b[0mprint\u001b[0m\u001b[0;34m(\u001b[0m\u001b[0msys\u001b[0m\u001b[0;34m.\u001b[0m\u001b[0mpath\u001b[0m\u001b[0;34m)\u001b[0m\u001b[0;34m\u001b[0m\u001b[0;34m\u001b[0m\u001b[0m\n\u001b[0;32m----> 7\u001b[0;31m \u001b[0;32mimport\u001b[0m \u001b[0maMRPC\u001b[0m\u001b[0;34m.\u001b[0m\u001b[0mutils\u001b[0m \u001b[0;32mas\u001b[0m \u001b[0mu\u001b[0m\u001b[0;34m\u001b[0m\u001b[0;34m\u001b[0m\u001b[0m\n\u001b[0m\u001b[1;32m      8\u001b[0m \u001b[0;32mimport\u001b[0m \u001b[0maMRPC\u001b[0m\u001b[0;34m.\u001b[0m\u001b[0mdatatools\u001b[0m \u001b[0;32mas\u001b[0m \u001b[0mdt\u001b[0m\u001b[0;34m\u001b[0m\u001b[0;34m\u001b[0m\u001b[0m\n\u001b[1;32m      9\u001b[0m \u001b[0;32mimport\u001b[0m \u001b[0maMRPC\u001b[0m\u001b[0;34m.\u001b[0m\u001b[0mpolytools\u001b[0m \u001b[0;32mas\u001b[0m \u001b[0mpt\u001b[0m\u001b[0;34m\u001b[0m\u001b[0;34m\u001b[0m\u001b[0m\n",
      "\u001b[0;31mModuleNotFoundError\u001b[0m: No module named 'aMRPC'"
     ]
    }
   ],
   "source": [
    "import pandas as pd\n",
    "import numpy as np\n",
    "import sys\n",
    "#import matplotlib.pyplot as plt\n",
    "import addparent2path\n",
    "print(sys.path)\n",
    "import aMRPC.utils as u\n",
    "import aMRPC.datatools as dt\n",
    "import aMRPC.polytools as pt\n",
    "import aMRPC.iodata as iod\n",
    "\n",
    "# data location\n",
    "#url='../data/InputParameters.txt'\n",
    "# load data\n",
    "#dataframe=pd.read_csv(url,header=None,sep='\\s+ ',engine='python')\n",
    "dataframe=iod.loadEvalPoints('InputParameters.txt')\n",
    "# choose sources\n",
    "srcs=[0, 1, 3]\n",
    "#srcs=[2]\n",
    "# output column template\n",
    "ocols=[0, 1, 0, 2]\n",
    "#ocols=[0]\n",
    "# zero column -1 if none\n",
    "zcol=[2]\n",
    "#zcol=-1\n",
    "# polynomial degree\n",
    "No=4\n",
    "# number of resolutions\n",
    "Nr=1\n",
    "# approach method of pol.coefficients\n",
    "method=0\n",
    "# template for the file name and  stucture of the root-n-weight output\n",
    "fargs={'Nr':str(Nr), 'No':str(No)}\n",
    "#fargs={'Nr':str(Nr), 'No':str(No),tmplt':'{:8.7e}\\n'}\n",
    "# dim\n",
    "dim=len(srcs)\n",
    "Nrs=Nr*np.ones(dim)\n",
    "\n",
    "#NrRange=np.arange(Nr+1)\n",
    "NrRange=[Nr]\n",
    "\n",
    "# Generate Hankel matrices\n",
    "Hdict=dt.genHankel(dataframe,srcs,NrRange,No)\n",
    "# Roots and Weights\n",
    "R,W=dt.genRootsWeights(Hdict,method)\n",
    "# (monic) orthogonal polynomial coefficients\n",
    "PCdict=dt.genPCs(Hdict,method)\n",
    "# normed orthogonal polynomials\n",
    "nPCdict=dt.genNPCs(PCdict,R,W)\n",
    "# get roots and weights for the output\n",
    "tR,tW=dt.getRW4Nrs(Nrs,srcs,R,W)\n",
    "# add col 2 for c+ file\n",
    "\n",
    "oR=u.chooseCols(tR,ocols,zcol)\n",
    "oW=u.chooseCols(tW,ocols,zcol)\n",
    "\n",
    "# gen fname and write ascii output\n",
    "# roots\n",
    "fname=iod.genFname(1,**fargs)\n",
    "iod.writeEvalPoints(oR,fname,**fargs)\n",
    "# test\n",
    "#T=iod.loadEvalPoints(fname)\n",
    "#print(T-oR)\n",
    "# weights\n",
    "fname=iod.genFname(2,**fargs)\n",
    "iod.writeEvalPoints(oW,fname,**fargs)\n",
    "\n",
    "# normend polynomial cfs, binary\n",
    "fname=iod.genFname(7,**fargs)\n",
    "iod.storeDataDict(nPCdict,fname)\n",
    "\n"
   ]
  }
 ],
 "metadata": {
  "kernelspec": {
   "display_name": "Python 3",
   "language": "python",
   "name": "python3"
  },
  "language_info": {
   "codemirror_mode": {
    "name": "ipython",
    "version": 3
   },
   "file_extension": ".py",
   "mimetype": "text/x-python",
   "name": "python",
   "nbconvert_exporter": "python",
   "pygments_lexer": "ipython3",
   "version": "3.6.8"
  }
 },
 "nbformat": 4,
 "nbformat_minor": 2
}
